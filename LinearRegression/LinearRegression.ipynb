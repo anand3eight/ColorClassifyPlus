{
  "cells": [
    {
      "cell_type": "markdown",
      "metadata": {
        "id": "vwltLt80CYGD"
      },
      "source": [
        "#PyTorch\n",
        "Let's explore an end-to-end PyTorch workflow"
      ]
    },
    {
      "cell_type": "code",
      "execution_count": 3,
      "metadata": {},
      "outputs": [],
      "source": [
        "#!pip install torch"
      ]
    },
    {
      "cell_type": "code",
      "execution_count": 4,
      "metadata": {
        "colab": {
          "base_uri": "https://localhost:8080/"
        },
        "id": "zHaGPqakCqSw",
        "outputId": "a2884845-5c9c-45af-873c-0c6c5c710e81"
      },
      "outputs": [
        {
          "data": {
            "text/plain": [
              "'2.0.1'"
            ]
          },
          "execution_count": 4,
          "metadata": {},
          "output_type": "execute_result"
        }
      ],
      "source": [
        "import torch\n",
        "from torch import nn #nn contains all of PyTorch's Building blocks for neural networks\n",
        "import matplotlib.pyplot as plt\n",
        "\n",
        "torch.__version__"
      ]
    },
    {
      "cell_type": "markdown",
      "metadata": {
        "id": "Vulk7hL7Cqam"
      },
      "source": [
        "#1 Data (Preparing and Loading)\n",
        "\n",
        "* Excel spreadsheet\n",
        "\n",
        "* Images\n",
        "\n",
        "* Videos\n",
        "\n",
        "* Audio\n",
        "\n",
        "* DNA\n",
        "\n",
        "* Text"
      ]
    },
    {
      "cell_type": "markdown",
      "metadata": {
        "id": "O-CiOH1hCqf0"
      },
      "source": [
        "Using Linear Regression Formula : Y = a + bX"
      ]
    },
    {
      "cell_type": "code",
      "execution_count": 5,
      "metadata": {
        "colab": {
          "base_uri": "https://localhost:8080/"
        },
        "id": "OyQtno-OCqj_",
        "outputId": "4096d8cd-e662-4b96-84c0-14130e46fd05"
      },
      "outputs": [
        {
          "data": {
            "text/plain": [
              "(tensor([[0.0000],\n",
              "         [0.0200],\n",
              "         [0.0400],\n",
              "         [0.0600],\n",
              "         [0.0800],\n",
              "         [0.1000],\n",
              "         [0.1200],\n",
              "         [0.1400],\n",
              "         [0.1600],\n",
              "         [0.1800]]),\n",
              " tensor([[0.3000],\n",
              "         [0.3140],\n",
              "         [0.3280],\n",
              "         [0.3420],\n",
              "         [0.3560],\n",
              "         [0.3700],\n",
              "         [0.3840],\n",
              "         [0.3980],\n",
              "         [0.4120],\n",
              "         [0.4260]]))"
            ]
          },
          "execution_count": 5,
          "metadata": {},
          "output_type": "execute_result"
        }
      ],
      "source": [
        "#Create *known* parameters\n",
        "\n",
        "weight = 0.7\n",
        "bias = 0.3\n",
        "\n",
        "#Create\n",
        "start = 0\n",
        "end = 1\n",
        "step = 0.02\n",
        "X = torch.arange(start, end, step).unsqueeze(dim=1)\n",
        "Y = weight * X + bias\n",
        "\n",
        "X[:10], Y[:10]"
      ]
    },
    {
      "cell_type": "code",
      "execution_count": 6,
      "metadata": {
        "colab": {
          "base_uri": "https://localhost:8080/"
        },
        "id": "ZB8Qw8buCqnh",
        "outputId": "63d0d46d-1eeb-494d-b223-e84ab9d3d516"
      },
      "outputs": [
        {
          "data": {
            "text/plain": [
              "(50, 50)"
            ]
          },
          "execution_count": 6,
          "metadata": {},
          "output_type": "execute_result"
        }
      ],
      "source": [
        "len(X), len(Y)"
      ]
    },
    {
      "cell_type": "markdown",
      "metadata": {
        "id": "RoCkpocRCqqe"
      },
      "source": [
        "#Splitting data into test and training data\n",
        "\n",
        "Let's create training and test sets for the given data"
      ]
    },
    {
      "cell_type": "code",
      "execution_count": 7,
      "metadata": {
        "colab": {
          "base_uri": "https://localhost:8080/"
        },
        "id": "Mr8vg6M-Gxc9",
        "outputId": "4b39184b-276d-4086-b811-9503f1be2ee1"
      },
      "outputs": [
        {
          "data": {
            "text/plain": [
              "(40, 40, 10, 10)"
            ]
          },
          "execution_count": 7,
          "metadata": {},
          "output_type": "execute_result"
        }
      ],
      "source": [
        "train_split = int(0.8 * len(X))\n",
        "X_train, Y_train = X[:train_split], Y[:train_split]\n",
        "X_test, Y_test = X[train_split:], Y[train_split:]\n",
        "\n",
        "len(X_train), len(Y_train), len(X_test), len(Y_test)"
      ]
    },
    {
      "cell_type": "markdown",
      "metadata": {
        "id": "Zr3tYC31IuO5"
      },
      "source": [
        "How better we visualize the data?"
      ]
    },
    {
      "cell_type": "code",
      "execution_count": 8,
      "metadata": {
        "id": "BY7QTtFtGxnM"
      },
      "outputs": [],
      "source": [
        "import matplotlib.pyplot as plt\n",
        "def plot_predictions(train_data = X_train,\n",
        "                     train_labels = Y_train,\n",
        "                     test_data = X_test,\n",
        "                     test_labels = Y_test,\n",
        "                     predictions = None) :\n",
        "\n",
        "#Plots training data, test data and compare predictions\n",
        "  plt.figure(figsize = (10, 7))\n",
        "\n",
        "#Plot training data in blue\n",
        "  plt.scatter(train_data, train_labels, c = \"b\", s = 4, label=\"Training data\")\n",
        "#Plot test data in green\n",
        "  plt.scatter(test_data, test_labels, c = \"g\", s = 4, label=\"Testing data\")\n",
        "\n",
        "#Plot predictions if exists\n",
        "  if predictions is not None :\n",
        "    plt.scatter(test_data, predictions, c=\"r\", s=4, label=\"Predictions\")\n",
        "\n",
        "#Show the legend\n",
        "  plt.legend(prop = {\"size\" : 14});"
      ]
    },
    {
      "cell_type": "code",
      "execution_count": null,
      "metadata": {
        "id": "wVN8VlvlNB4k"
      },
      "outputs": [],
      "source": []
    },
    {
      "cell_type": "code",
      "execution_count": 9,
      "metadata": {
        "colab": {
          "base_uri": "https://localhost:8080/"
        },
        "id": "HXLU_so-Gxve",
        "outputId": "af048018-410d-4fac-b63a-070d68550e50"
      },
      "outputs": [
        {
          "data": {
            "image/png": "[encoded data removed]",
            "text/plain": [
              "<Figure size 1000x700 with 1 Axes>"
            ]
          },
          "metadata": {},
          "output_type": "display_data"
        }
      ],
      "source": [
        "plot_predictions();"
      ]
    },
    {
      "cell_type": "markdown",
      "metadata": {
        "id": "iBI3nlv1Gx5k"
      },
      "source": [
        "#Build our First model in Pytorch"
      ]
    },
    {
      "cell_type": "markdown",
      "metadata": {
        "id": "aWSzd_1dCkTW"
      },
      "source": [
        "What our model does\n",
        "\n",
        "* Start with Random values(weight & bias)\n",
        "\n",
        "* Look at training data and adjust the random values to better represent the ideal values\n",
        "\n",
        "How?\n",
        "\n",
        "1. Gradient descent\n",
        "2. Backpropagation"
      ]
    },
    {
      "cell_type": "code",
      "execution_count": 10,
      "metadata": {
        "id": "7u-vdgHaGyGE"
      },
      "outputs": [],
      "source": [
        "#Create Linear regression model class\n",
        "from torch import nn\n",
        "class LinearRegressionModel(nn.Module): #<-Almost everything in PyTorch inherits from nn\n",
        "    def __init__(self) :\n",
        "      super().__init__()\n",
        "      self.weights = nn.Parameter(torch.randn(1,\n",
        "                                              requires_grad = True,\n",
        "                                              dtype = torch.float))\n",
        "      self.bias = nn.Parameter(torch.randn(1,\n",
        "                                           requires_grad = True,\n",
        "                                           dtype = torch.float))\n",
        "      #Forward method to define computation in the model -> must be overrided with nn.module\n",
        "    def forward(self, x : torch.Tensor) -> torch.Tensor :# <- \"x\" is the input data\n",
        "      return self.weights * x + self.bias #Linear Regression"
      ]
    },
    {
      "cell_type": "markdown",
      "metadata": {
        "id": "kB26nXFPGyN5"
      },
      "source": [
        "#Pytorch model building essentials\n",
        "\n",
        "* torch.nn - contains all of the building blocks for neural networks (or) computational graphs\n",
        "\n",
        "* torch.nn.Parameter - what parameters should our model try and learn\n",
        "\n",
        "* torch.nn.module - base for all neural network modules\n",
        "\n",
        "* torch.optim - Where optimizers live, help in gradient descent\n",
        "\n",
        "* def forward() - All nn.module subclasses require you to overridee forward(), this method defines the computation"
      ]
    },
    {
      "cell_type": "markdown",
      "metadata": {
        "id": "r-LUaGbaGyVm"
      },
      "source": [
        "###Checking contents of our PyTorch Model\n",
        "\n",
        "Let's see what's inside the model\n",
        "\n",
        "So we can check the parameters using\n",
        ".parameters()"
      ]
    },
    {
      "cell_type": "code",
      "execution_count": 11,
      "metadata": {
        "colab": {
          "base_uri": "https://localhost:8080/"
        },
        "id": "uCl7vRB-Eadb",
        "outputId": "0178b621-eeac-4429-d7b3-14057e66f473"
      },
      "outputs": [
        {
          "data": {
            "text/plain": [
              "[Parameter containing:\n",
              " tensor([0.3367], requires_grad=True),\n",
              " Parameter containing:\n",
              " tensor([0.1288], requires_grad=True)]"
            ]
          },
          "execution_count": 11,
          "metadata": {},
          "output_type": "execute_result"
        }
      ],
      "source": [
        "#Create a Random Seed\n",
        "torch.manual_seed(42)\n",
        "\n",
        "#Create an instance of the model(this is a subclass of nn.Module)\n",
        "\n",
        "model_0 = LinearRegressionModel()\n",
        "\n",
        "#Check out the paramters\n",
        "list(model_0.parameters())"
      ]
    },
    {
      "cell_type": "code",
      "execution_count": 12,
      "metadata": {
        "colab": {
          "base_uri": "https://localhost:8080/"
        },
        "id": "7_p7g968Eanv",
        "outputId": "60971e90-32f4-4089-c21c-a27fbe7214e9"
      },
      "outputs": [
        {
          "data": {
            "text/plain": [
              "OrderedDict([('weights', tensor([0.3367])), ('bias', tensor([0.1288]))])"
            ]
          },
          "execution_count": 12,
          "metadata": {},
          "output_type": "execute_result"
        }
      ],
      "source": [
        "# List named parameters\n",
        "model_0.state_dict()"
      ]
    },
    {
      "cell_type": "code",
      "execution_count": 13,
      "metadata": {
        "colab": {
          "base_uri": "https://localhost:8080/"
        },
        "id": "C1qr-tCJEavq",
        "outputId": "1ae667fe-ac4f-4158-e381-f6caa641c3df"
      },
      "outputs": [
        {
          "data": {
            "text/plain": [
              "(0.7, 0.3)"
            ]
          },
          "execution_count": 13,
          "metadata": {},
          "output_type": "execute_result"
        }
      ],
      "source": [
        "weight, bias"
      ]
    },
    {
      "cell_type": "markdown",
      "metadata": {
        "id": "vkfpHEkMI_fN"
      },
      "source": [
        "###Making Predictions using torch.inference_mode()\n",
        "\n",
        "To check our models predictive power, let's see how well it predicts Y_test based on X_text\n",
        "\n",
        "When we pass data through our model, it's going to run it with forward()"
      ]
    },
    {
      "cell_type": "code",
      "execution_count": 14,
      "metadata": {
        "colab": {
          "base_uri": "https://localhost:8080/"
        },
        "id": "L_oCM1bsJ_Vb",
        "outputId": "16519aa5-95d9-4407-cc3a-1f820940b28e"
      },
      "outputs": [
        {
          "data": {
            "text/plain": [
              "(tensor([[0.8000],\n",
              "         [0.8200],\n",
              "         [0.8400],\n",
              "         [0.8600],\n",
              "         [0.8800],\n",
              "         [0.9000],\n",
              "         [0.9200],\n",
              "         [0.9400],\n",
              "         [0.9600],\n",
              "         [0.9800]]),\n",
              " tensor([[0.8600],\n",
              "         [0.8740],\n",
              "         [0.8880],\n",
              "         [0.9020],\n",
              "         [0.9160],\n",
              "         [0.9300],\n",
              "         [0.9440],\n",
              "         [0.9580],\n",
              "         [0.9720],\n",
              "         [0.9860]]))"
            ]
          },
          "execution_count": 14,
          "metadata": {},
          "output_type": "execute_result"
        }
      ],
      "source": [
        "X_test, Y_test"
      ]
    },
    {
      "cell_type": "code",
      "execution_count": 15,
      "metadata": {
        "colab": {
          "base_uri": "https://localhost:8080/"
        },
        "id": "bMiz7S_PLHUP",
        "outputId": "88362b7b-ee21-4960-8910-d86562b6478d"
      },
      "outputs": [
        {
          "data": {
            "text/plain": [
              "tensor([[0.3982],\n",
              "        [0.4049],\n",
              "        [0.4116],\n",
              "        [0.4184],\n",
              "        [0.4251],\n",
              "        [0.4318],\n",
              "        [0.4386],\n",
              "        [0.4453],\n",
              "        [0.4520],\n",
              "        [0.4588]], grad_fn=<AddBackward0>)"
            ]
          },
          "execution_count": 15,
          "metadata": {},
          "output_type": "execute_result"
        }
      ],
      "source": [
        "y_preds = model_0(X_test)\n",
        "y_preds"
      ]
    },
    {
      "cell_type": "code",
      "execution_count": 16,
      "metadata": {
        "colab": {
          "base_uri": "https://localhost:8080/"
        },
        "id": "m6FaWHvdJ1NP",
        "outputId": "1c4a3781-9318-4833-ffc7-7212db04c23b"
      },
      "outputs": [
        {
          "data": {
            "text/plain": [
              "tensor([[0.3982],\n",
              "        [0.4049],\n",
              "        [0.4116],\n",
              "        [0.4184],\n",
              "        [0.4251],\n",
              "        [0.4318],\n",
              "        [0.4386],\n",
              "        [0.4453],\n",
              "        [0.4520],\n",
              "        [0.4588]])"
            ]
          },
          "execution_count": 16,
          "metadata": {},
          "output_type": "execute_result"
        }
      ],
      "source": [
        "#Make Predictions with model\n",
        "\n",
        "with torch.inference_mode() : #Turns off gradient tracking -> For faster prediction\n",
        "  y_preds = model_0(X_test)\n",
        "\n",
        "#Can also be done this way , however inference_mode() is preferred\n",
        "with torch.no_grad() :\n",
        "  y_preds = model_0(X_test)\n",
        "y_preds\n"
      ]
    },
    {
      "cell_type": "code",
      "execution_count": 17,
      "metadata": {
        "colab": {
          "base_uri": "https://localhost:8080/",
          "height": 428
        },
        "id": "l4y3cwL8J1V_",
        "outputId": "20a49b5a-9e6d-44f8-cbdf-0bee86f33171"
      },
      "outputs": [
        {
          "data": {
            "image/png": "[encoded data removed]",
            "text/plain": [
              "<Figure size 1000x700 with 1 Axes>"
            ]
          },
          "metadata": {},
          "output_type": "display_data"
        }
      ],
      "source": [
        "plot_predictions(predictions = y_preds)"
      ]
    },
    {
      "cell_type": "markdown",
      "metadata": {
        "id": "Nyj6KPILJ1kd"
      },
      "source": [
        "## Train model\n",
        "\n",
        "Idea is for a model to move from *unknown* parameters to *known* parameters\n",
        "\n",
        "Loss function - to measure how poor your model's predictions are\n",
        "\n",
        "aka Cost Function or Criterion\n",
        "\n",
        "Things we need to train :\n",
        "\n",
        "1. Loss Function\n",
        "2. Takes into account the loss of a model and adjusts the parameters\n",
        "\n",
        "PyTorch needs\n",
        "* training loop\n",
        "* testing loop"
      ]
    },
    {
      "cell_type": "code",
      "execution_count": 18,
      "metadata": {
        "colab": {
          "base_uri": "https://localhost:8080/"
        },
        "id": "ZrvMsSfdJ1uL",
        "outputId": "cabd0fa6-febe-4055-9c23-ad3d0500a023"
      },
      "outputs": [
        {
          "data": {
            "text/plain": [
              "OrderedDict([('weights', tensor([0.3367])), ('bias', tensor([0.1288]))])"
            ]
          },
          "execution_count": 18,
          "metadata": {},
          "output_type": "execute_result"
        }
      ],
      "source": [
        "#Check out our model's parameters (a parameter is a value a model sets itself)\n",
        "model_0.state_dict()"
      ]
    },
    {
      "cell_type": "code",
      "execution_count": 19,
      "metadata": {
        "id": "mAjIUvjWlxP9"
      },
      "outputs": [],
      "source": [
        "#Setup a loss function\n",
        "loss_fn = nn.L1Loss()\n",
        "loss_fn\n",
        "\n",
        "#Setup an Optimizer(Stochastic Gradient Descent)\n",
        "optimizer = torch.optim.SGD(params = model_0.parameters(), lr = 0.01) #learning rate = possibly the most imp. hyperparameter\n",
        "                                        # learning rate affects the changes\n"
      ]
    },
    {
      "cell_type": "markdown",
      "metadata": {
        "id": "bvX4mjcRoXyc"
      },
      "source": [
        "####Building a Training loop in PyTorch\n",
        "\n",
        "Things we need:\n",
        "0. Loop through the data and do\n",
        "1. forward pass (this involves data moving through our model's forward() functions) - to make predictions on data\n",
        "2. Calculate the loss (compare forward pass predictions to ground truth labels)\n",
        "3. Optimizer zero grad\n",
        "4. Loss backward - move backwards through the network to calculate the gradients of each of the parameters of our model with respect to the loss(**backpropagation**)\n",
        "5. Optimizer step - Use optimizer to adjust our model's parameter's to try and improve the loss(**gradient descent**)\n"
      ]
    },
    {
      "cell_type": "code",
      "execution_count": 20,
      "metadata": {
        "colab": {
          "base_uri": "https://localhost:8080/"
        },
        "id": "q_RvNmlCuoVK",
        "outputId": "218c00de-c96e-432f-8b5d-b99bd0bc58b6"
      },
      "outputs": [
        {
          "data": {
            "text/plain": [
              "OrderedDict([('weights', tensor([0.3367])), ('bias', tensor([0.1288]))])"
            ]
          },
          "execution_count": 20,
          "metadata": {},
          "output_type": "execute_result"
        }
      ],
      "source": [
        "model_0.state_dict()"
      ]
    },
    {
      "cell_type": "code",
      "execution_count": 21,
      "metadata": {
        "colab": {
          "base_uri": "https://localhost:8080/"
        },
        "id": "c2HeU1oNtxTl",
        "outputId": "a7f56e70-276a-4613-9d23-7e233bd10e11"
      },
      "outputs": [
        {
          "data": {
            "text/plain": [
              "[Parameter containing:\n",
              " tensor([0.3367], requires_grad=True),\n",
              " Parameter containing:\n",
              " tensor([0.1288], requires_grad=True)]"
            ]
          },
          "execution_count": 21,
          "metadata": {},
          "output_type": "execute_result"
        }
      ],
      "source": [
        "list(model_0.eval().parameters())"
      ]
    },
    {
      "cell_type": "code",
      "execution_count": 22,
      "metadata": {
        "id": "iDaRslV3uVMJ"
      },
      "outputs": [],
      "source": [
        "with torch.inference_mode() :\n",
        "  list(model_0.parameters())"
      ]
    },
    {
      "cell_type": "code",
      "execution_count": 23,
      "metadata": {
        "colab": {
          "base_uri": "https://localhost:8080/"
        },
        "id": "9s60t7nDlxZa",
        "outputId": "3069103f-9b0b-46cd-e0a9-28e71f432cbe"
      },
      "outputs": [
        {
          "name": "stdout",
          "output_type": "stream",
          "text": [
            "Epoch : 0 | Loss : 0.31288138031959534 | Test Loss: 0.48106518387794495\n",
            "Model : OrderedDict([('weights', tensor([0.3406])), ('bias', tensor([0.1388]))])\n",
            "Epoch : 10 | Loss : 0.1976713240146637 | Test Loss: 0.3463551998138428\n",
            "Model : OrderedDict([('weights', tensor([0.3796])), ('bias', tensor([0.2388]))])\n",
            "Epoch : 20 | Loss : 0.08908725529909134 | Test Loss: 0.21729660034179688\n",
            "Model : OrderedDict([('weights', tensor([0.4184])), ('bias', tensor([0.3333]))])\n",
            "Epoch : 30 | Loss : 0.053148526698350906 | Test Loss: 0.14464017748832703\n",
            "Model : OrderedDict([('weights', tensor([0.4512])), ('bias', tensor([0.3768]))])\n",
            "Epoch : 40 | Loss : 0.04543796554207802 | Test Loss: 0.11360953003168106\n",
            "Model : OrderedDict([('weights', tensor([0.4748])), ('bias', tensor([0.3868]))])\n",
            "Epoch : 50 | Loss : 0.04167863354086876 | Test Loss: 0.09919948130846024\n",
            "Model : OrderedDict([('weights', tensor([0.4938])), ('bias', tensor([0.3843]))])\n",
            "Epoch : 60 | Loss : 0.03818932920694351 | Test Loss: 0.08886633068323135\n",
            "Model : OrderedDict([('weights', tensor([0.5116])), ('bias', tensor([0.3788]))])\n",
            "Epoch : 70 | Loss : 0.03476089984178543 | Test Loss: 0.0805937647819519\n",
            "Model : OrderedDict([('weights', tensor([0.5288])), ('bias', tensor([0.3718]))])\n",
            "Epoch : 80 | Loss : 0.03132382780313492 | Test Loss: 0.07232122868299484\n",
            "Model : OrderedDict([('weights', tensor([0.5459])), ('bias', tensor([0.3648]))])\n",
            "Epoch : 90 | Loss : 0.02788740023970604 | Test Loss: 0.06473556160926819\n",
            "Model : OrderedDict([('weights', tensor([0.5629])), ('bias', tensor([0.3573]))])\n",
            "Epoch : 100 | Loss : 0.024458957836031914 | Test Loss: 0.05646304413676262\n",
            "Model : OrderedDict([('weights', tensor([0.5800])), ('bias', tensor([0.3503]))])\n",
            "Epoch : 110 | Loss : 0.021020209416747093 | Test Loss: 0.04819049686193466\n",
            "Model : OrderedDict([('weights', tensor([0.5972])), ('bias', tensor([0.3433]))])\n",
            "Epoch : 120 | Loss : 0.01758546754717827 | Test Loss: 0.04060482233762741\n",
            "Model : OrderedDict([('weights', tensor([0.6141])), ('bias', tensor([0.3358]))])\n",
            "Epoch : 130 | Loss : 0.014155392535030842 | Test Loss: 0.03233227878808975\n",
            "Model : OrderedDict([('weights', tensor([0.6313])), ('bias', tensor([0.3288]))])\n",
            "Epoch : 140 | Loss : 0.010716588236391544 | Test Loss: 0.024059748277068138\n",
            "Model : OrderedDict([('weights', tensor([0.6485])), ('bias', tensor([0.3218]))])\n",
            "Epoch : 150 | Loss : 0.0072835348546504974 | Test Loss: 0.016474086791276932\n",
            "Model : OrderedDict([('weights', tensor([0.6654])), ('bias', tensor([0.3143]))])\n",
            "Epoch : 160 | Loss : 0.003851778106763959 | Test Loss: 0.008201557211577892\n",
            "Model : OrderedDict([('weights', tensor([0.6826])), ('bias', tensor([0.3073]))])\n",
            "Epoch : 170 | Loss : 0.00893248151987791 | Test Loss: 0.005023092031478882\n",
            "Model : OrderedDict([('weights', tensor([0.6951])), ('bias', tensor([0.2993]))])\n",
            "Epoch : 180 | Loss : 0.00893248151987791 | Test Loss: 0.005023092031478882\n",
            "Model : OrderedDict([('weights', tensor([0.6951])), ('bias', tensor([0.2993]))])\n",
            "Epoch : 190 | Loss : 0.00893248151987791 | Test Loss: 0.005023092031478882\n",
            "Model : OrderedDict([('weights', tensor([0.6951])), ('bias', tensor([0.2993]))])\n"
          ]
        }
      ],
      "source": [
        "torch.manual_seed(42)\n",
        "\n",
        "epochs = 200 #An epoch is one loop through data\n",
        "\n",
        "# Track different values\n",
        "epoch_count = []\n",
        "loss_values = []\n",
        "test_loss_values = []\n",
        "\n",
        "###Training\n",
        "#0. Loop through the data\n",
        "for epoch in range(epochs) :\n",
        "  #Set the model to training mode\n",
        "  model_0.train() #train mode in PyTorch sets all parameters to require gradient\n",
        "\n",
        "  #1. Forward pass\n",
        "  y_pred = model_0(X_train)\n",
        "\n",
        "  #2. Calculate the loss\n",
        "\n",
        "  loss = loss_fn(y_pred, Y_train)\n",
        "  #3. Optimizer zero grad\n",
        "  optimizer.zero_grad()\n",
        "\n",
        "  #4. Perform backpropagation on the loss with respect to model parameters\n",
        "  loss.backward()\n",
        "\n",
        "  #5. Step the optimizer (perform gradient descent)\n",
        "  optimizer.step()\n",
        "\n",
        "  #Testing\n",
        "  model_0.eval() #turns off different setting in model not needed for testing(dropout /batch norm)\n",
        "  with torch.inference_mode() : #turns off gradient tracking & a couple more\n",
        "    #torch.no_grad is the older version\n",
        "\n",
        "    #1. Forward Pass\n",
        "    test_pred = model_0(X_test)\n",
        "\n",
        "    #2. Calculate the loss\n",
        "    test_loss = loss_fn(test_pred, Y_test)\n",
        "  #Prints what's happening\n",
        "  if(epoch % 10 == 0) :\n",
        "    epoch_count.append(epoch)\n",
        "    loss_values.append(loss)\n",
        "    test_loss_values.append(test_loss)\n",
        "    print(f\"Epoch : {epoch} | Loss : {loss} | Test Loss: {test_loss}\")\n",
        "  #Print our model state dict()\n",
        "    print(f\"Model : {model_0.state_dict()}\")"
      ]
    },
    {
      "cell_type": "code",
      "execution_count": 24,
      "metadata": {
        "colab": {
          "base_uri": "https://localhost:8080/"
        },
        "id": "t9XmGCyEJjDm",
        "outputId": "8a50bf83-127b-4a19-da77-5e83a3ef8a48"
      },
      "outputs": [
        {
          "data": {
            "text/plain": [
              "OrderedDict([('weights', tensor([0.6990])), ('bias', tensor([0.3093]))])"
            ]
          },
          "execution_count": 24,
          "metadata": {},
          "output_type": "execute_result"
        }
      ],
      "source": [
        "model_0.state_dict()"
      ]
    },
    {
      "cell_type": "code",
      "execution_count": 25,
      "metadata": {
        "colab": {
          "base_uri": "https://localhost:8080/"
        },
        "id": "Hce8DkCsJixo",
        "outputId": "e308dc9c-7119-4dd7-a2df-55ecc0a7f5e7"
      },
      "outputs": [
        {
          "data": {
            "text/plain": [
              "(0.7, 0.3)"
            ]
          },
          "execution_count": 25,
          "metadata": {},
          "output_type": "execute_result"
        }
      ],
      "source": [
        "(weight, bias)"
      ]
    },
    {
      "cell_type": "code",
      "execution_count": 26,
      "metadata": {
        "colab": {
          "base_uri": "https://localhost:8080/"
        },
        "id": "X0rdQEOQLXeH",
        "outputId": "756f2cce-dd0b-4816-fd3d-e5b532869097"
      },
      "outputs": [
        {
          "data": {
            "text/plain": [
              "(array([0.31288138, 0.19767132, 0.08908726, 0.05314853, 0.04543797,\n",
              "        0.04167863, 0.03818933, 0.0347609 , 0.03132383, 0.0278874 ,\n",
              "        0.02445896, 0.02102021, 0.01758547, 0.01415539, 0.01071659,\n",
              "        0.00728353, 0.00385178, 0.00893248, 0.00893248, 0.00893248],\n",
              "       dtype=float32),\n",
              " array([0.48106518, 0.3463552 , 0.2172966 , 0.14464018, 0.11360953,\n",
              "        0.09919948, 0.08886633, 0.08059376, 0.07232123, 0.06473556,\n",
              "        0.05646304, 0.0481905 , 0.04060482, 0.03233228, 0.02405975,\n",
              "        0.01647409, 0.00820156, 0.00502309, 0.00502309, 0.00502309],\n",
              "       dtype=float32))"
            ]
          },
          "execution_count": 26,
          "metadata": {},
          "output_type": "execute_result"
        }
      ],
      "source": [
        "import numpy as np\n",
        "np.array(torch.tensor(loss_values).numpy()), np.array(torch.tensor(test_loss_values).numpy())"
      ]
    },
    {
      "cell_type": "code",
      "execution_count": 27,
      "metadata": {
        "colab": {
          "base_uri": "https://localhost:8080/",
          "height": 313
        },
        "id": "hY3Av0iwK6lT",
        "outputId": "96da1418-eddc-4151-e7bc-e1a207e29b6e"
      },
      "outputs": [
        {
          "data": {
            "text/plain": [
              "<matplotlib.legend.Legend at 0x16a0fe3b0>"
            ]
          },
          "execution_count": 27,
          "metadata": {},
          "output_type": "execute_result"
        },
        {
          "data": {
            "image/png": "[encoded data removed]",
            "text/plain": [
              "<Figure size 640x480 with 1 Axes>"
            ]
          },
          "metadata": {},
          "output_type": "display_data"
        }
      ],
      "source": [
        "#Plot Loss values\n",
        "import numpy as np\n",
        "plt.plot(epoch_count, np.array(torch.tensor(loss_values).numpy()), label = \"Train Loss\")\n",
        "plt.plot(epoch_count, test_loss_values, label = \"Test Loss\")\n",
        "plt.title(\"Training and test loss curves\")\n",
        "plt.xlabel(\"Loss\")\n",
        "plt.ylabel(\"Epochs\")\n",
        "plt.legend()"
      ]
    },
    {
      "cell_type": "code",
      "execution_count": 28,
      "metadata": {
        "id": "a7qXA5V0lxg0"
      },
      "outputs": [],
      "source": [
        "with torch.inference_mode() :\n",
        "  y_preds_new = model_0(X_test)"
      ]
    },
    {
      "cell_type": "code",
      "execution_count": 29,
      "metadata": {
        "colab": {
          "base_uri": "https://localhost:8080/",
          "height": 428
        },
        "id": "BrB82BdDlxov",
        "outputId": "5d759726-87fb-437f-967f-2a86e7a2b624"
      },
      "outputs": [
        {
          "data": {
            "image/png": "[encoded data removed]",
            "text/plain": [
              "<Figure size 1000x700 with 1 Axes>"
            ]
          },
          "metadata": {},
          "output_type": "display_data"
        }
      ],
      "source": [
        "plot_predictions(predictions = y_preds)"
      ]
    },
    {
      "cell_type": "code",
      "execution_count": 30,
      "metadata": {
        "colab": {
          "base_uri": "https://localhost:8080/",
          "height": 428
        },
        "id": "3O5fnPSLlxyA",
        "outputId": "8bac4041-6d5c-4681-fb13-cea1363147a6"
      },
      "outputs": [
        {
          "data": {
            "image/png": "[encoded data removed]",
            "text/plain": [
              "<Figure size 1000x700 with 1 Axes>"
            ]
          },
          "metadata": {},
          "output_type": "display_data"
        }
      ],
      "source": [
        "plot_predictions(predictions = y_preds_new)"
      ]
    },
    {
      "cell_type": "markdown",
      "metadata": {
        "id": "7SUDz-Szlx6f"
      },
      "source": [
        "*italicized text*###Saving a Model in PyTorch\n",
        "\n",
        "There are three main methods to know for saving and loading models\n",
        "1. torch.save() - to save PyTorch object in Python's pickle format\n",
        "2. torch.load() - to load a saved PyTorch Object\n",
        "3. torch.nn.Module.load_state_dict() - to load a model's saved state_dict"
      ]
    },
    {
      "cell_type": "code",
      "execution_count": 31,
      "metadata": {
        "colab": {
          "base_uri": "https://localhost:8080/"
        },
        "id": "t24I63ZulyCq",
        "outputId": "eaba065e-c2c3-4576-a6a9-798a1a5277d2"
      },
      "outputs": [
        {
          "name": "stdout",
          "output_type": "stream",
          "text": [
            "Saving Model to : models/01_pytorch_workflow_model_0.pth\n"
          ]
        }
      ],
      "source": [
        "#Saving our PyTorch model\n",
        "\n",
        "from pathlib import Path\n",
        "\n",
        "#1. Create a model directory\n",
        "MODEL_PATH = Path(\"models\")\n",
        "MODEL_PATH.mkdir(parents=True, exist_ok=True)\n",
        "\n",
        "#2. Create model save path\n",
        "MODEL_NAME = \"01_pytorch_workflow_model_0.pth\"\n",
        "MODEL_SAVE_PATH = MODEL_PATH / MODEL_NAME\n",
        "\n",
        "#3. Save model's state_dict()\n",
        "print(f\"Saving Model to : {MODEL_SAVE_PATH}\")\n",
        "torch.save(obj=model_0.state_dict(), f=MODEL_SAVE_PATH)\n"
      ]
    },
    {
      "cell_type": "code",
      "execution_count": 32,
      "metadata": {
        "colab": {
          "base_uri": "https://localhost:8080/"
        },
        "id": "PmXlDL58J109",
        "outputId": "411b583f-dde8-4489-fec3-5d2a53739e6e"
      },
      "outputs": [
        {
          "name": "stdout",
          "output_type": "stream",
          "text": [
            "total 8\n",
            "-rw-r--r--@ 1 anand  staff  1207 Aug 21 18:42 01_pytorch_workflow_model_0.pth\n"
          ]
        }
      ],
      "source": [
        "!ls -l models"
      ]
    },
    {
      "cell_type": "markdown",
      "metadata": {
        "id": "eYx5J-34J17p"
      },
      "source": [
        "###Loading a PyTorch Model\n",
        "\n",
        "Since we saved the state_dict() we create a new instance of the model and put state_dict into that\n"
      ]
    },
    {
      "cell_type": "code",
      "execution_count": 33,
      "metadata": {
        "colab": {
          "base_uri": "https://localhost:8080/"
        },
        "id": "zE1xirLIJ2Bq",
        "outputId": "34bd24be-c224-4ced-82bc-0e7a443b6181"
      },
      "outputs": [
        {
          "data": {
            "text/plain": [
              "OrderedDict([('weights', tensor([0.6990])), ('bias', tensor([0.3093]))])"
            ]
          },
          "execution_count": 33,
          "metadata": {},
          "output_type": "execute_result"
        }
      ],
      "source": [
        "model_0.state_dict()"
      ]
    },
    {
      "cell_type": "code",
      "execution_count": 34,
      "metadata": {
        "colab": {
          "base_uri": "https://localhost:8080/"
        },
        "id": "flyAL-E5VEzi",
        "outputId": "ebe02898-947a-4673-ebd6-8bf2747b08e3"
      },
      "outputs": [
        {
          "data": {
            "text/plain": [
              "<All keys matched successfully>"
            ]
          },
          "execution_count": 34,
          "metadata": {},
          "output_type": "execute_result"
        }
      ],
      "source": [
        "#To load in a saved_dict(), we've to instantiate a new instance of our model class\n",
        "loaded_model_0 = LinearRegressionModel()\n",
        "\n",
        "#Load the saved state_dict() of model_0(load with updated parameters)\n",
        "loaded_model_0.load_state_dict(torch.load(f=MODEL_SAVE_PATH))"
      ]
    },
    {
      "cell_type": "code",
      "execution_count": 35,
      "metadata": {
        "colab": {
          "base_uri": "https://localhost:8080/"
        },
        "id": "xRrvcKlUVZbI",
        "outputId": "26473ea3-fe0e-430b-aed5-727e689cf43b"
      },
      "outputs": [
        {
          "data": {
            "text/plain": [
              "OrderedDict([('weights', tensor([0.6990])), ('bias', tensor([0.3093]))])"
            ]
          },
          "execution_count": 35,
          "metadata": {},
          "output_type": "execute_result"
        }
      ],
      "source": [
        "loaded_model_0.state_dict()"
      ]
    },
    {
      "cell_type": "code",
      "execution_count": 36,
      "metadata": {
        "colab": {
          "base_uri": "https://localhost:8080/"
        },
        "id": "SJ-Coq80VbHM",
        "outputId": "d9f7ae3d-411f-45be-f3e1-7541fa8ae320"
      },
      "outputs": [
        {
          "data": {
            "text/plain": [
              "tensor([[0.8685],\n",
              "        [0.8825],\n",
              "        [0.8965],\n",
              "        [0.9105],\n",
              "        [0.9245],\n",
              "        [0.9384],\n",
              "        [0.9524],\n",
              "        [0.9664],\n",
              "        [0.9804],\n",
              "        [0.9944]])"
            ]
          },
          "execution_count": 36,
          "metadata": {},
          "output_type": "execute_result"
        }
      ],
      "source": [
        "#Make some predictions with loaded model\n",
        "\n",
        "loaded_model_0.eval()\n",
        "with torch.inference_mode() :\n",
        "  loaded_model_preds = loaded_model_0(X_test)\n",
        "\n",
        "loaded_model_preds\n"
      ]
    },
    {
      "cell_type": "code",
      "execution_count": 37,
      "metadata": {
        "colab": {
          "base_uri": "https://localhost:8080/"
        },
        "id": "PguA6InRWj0a",
        "outputId": "4ad7be36-5ece-447b-eab5-47570388721c"
      },
      "outputs": [
        {
          "data": {
            "text/plain": [
              "tensor([[False],\n",
              "        [False],\n",
              "        [False],\n",
              "        [False],\n",
              "        [False],\n",
              "        [False],\n",
              "        [False],\n",
              "        [False],\n",
              "        [False],\n",
              "        [False]])"
            ]
          },
          "execution_count": 37,
          "metadata": {},
          "output_type": "execute_result"
        }
      ],
      "source": [
        "#Compare loaded model preds with original model threads\n",
        "y_preds == loaded_model_preds"
      ]
    },
    {
      "cell_type": "code",
      "execution_count": 38,
      "metadata": {
        "id": "edS4OgbDWxhP"
      },
      "outputs": [],
      "source": [
        "model_0.eval()\n",
        "with torch.inference_mode() :\n",
        "  y_preds = model_0(X_test)"
      ]
    },
    {
      "cell_type": "code",
      "execution_count": 39,
      "metadata": {
        "colab": {
          "base_uri": "https://localhost:8080/"
        },
        "id": "xDIqvpwlzGl4",
        "outputId": "2ad16b8b-55cf-47ae-fde4-a892ecf14a42"
      },
      "outputs": [
        {
          "data": {
            "text/plain": [
              "tensor([[0.8685],\n",
              "        [0.8825],\n",
              "        [0.8965],\n",
              "        [0.9105],\n",
              "        [0.9245],\n",
              "        [0.9384],\n",
              "        [0.9524],\n",
              "        [0.9664],\n",
              "        [0.9804],\n",
              "        [0.9944]])"
            ]
          },
          "execution_count": 39,
          "metadata": {},
          "output_type": "execute_result"
        }
      ],
      "source": [
        "y_preds"
      ]
    },
    {
      "cell_type": "code",
      "execution_count": 40,
      "metadata": {
        "colab": {
          "base_uri": "https://localhost:8080/"
        },
        "id": "op2BHJo0znfF",
        "outputId": "d78c4972-f601-4782-8992-b45bb1684da2"
      },
      "outputs": [
        {
          "data": {
            "text/plain": [
              "tensor([[True],\n",
              "        [True],\n",
              "        [True],\n",
              "        [True],\n",
              "        [True],\n",
              "        [True],\n",
              "        [True],\n",
              "        [True],\n",
              "        [True],\n",
              "        [True]])"
            ]
          },
          "execution_count": 40,
          "metadata": {},
          "output_type": "execute_result"
        }
      ],
      "source": [
        "y_preds == loaded_model_preds"
      ]
    },
    {
      "cell_type": "code",
      "execution_count": null,
      "metadata": {
        "id": "vgyNj2IEzrK5"
      },
      "outputs": [],
      "source": []
    }
  ],
  "metadata": {
    "colab": {
      "provenance": []
    },
    "kernelspec": {
      "display_name": "Python 3",
      "name": "python3"
    },
    "language_info": {
      "codemirror_mode": {
        "name": "ipython",
        "version": 3
      },
      "file_extension": ".py",
      "mimetype": "text/x-python",
      "name": "python",
      "nbconvert_exporter": "python",
      "pygments_lexer": "ipython3",
      "version": "3.10.10"
    }
  },
  "nbformat": 4,
  "nbformat_minor": 0
}
